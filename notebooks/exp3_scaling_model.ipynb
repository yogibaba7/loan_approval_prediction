{
 "cells": [
  {
   "cell_type": "code",
   "execution_count": 42,
   "id": "90fa3b9e",
   "metadata": {},
   "outputs": [],
   "source": [
    "# IMPORT LIBRIES\n",
    "import pandas as pd \n",
    "import numpy as np \n",
    "from sklearn.model_selection import train_test_split\n",
    "from sklearn.preprocessing import StandardScaler,MinMaxScaler,RobustScaler,MaxAbsScaler\n",
    "from sklearn.linear_model import LogisticRegression\n",
    "from sklearn.metrics import accuracy_score,recall_score,precision_score,f1_score\n",
    "from sklearn.preprocessing import OrdinalEncoder\n",
    "from sklearn.ensemble import RandomForestClassifier\n"
   ]
  },
  {
   "cell_type": "code",
   "execution_count": 43,
   "id": "e3d606ef",
   "metadata": {},
   "outputs": [
    {
     "data": {
      "text/html": [
       "<div>\n",
       "<style scoped>\n",
       "    .dataframe tbody tr th:only-of-type {\n",
       "        vertical-align: middle;\n",
       "    }\n",
       "\n",
       "    .dataframe tbody tr th {\n",
       "        vertical-align: top;\n",
       "    }\n",
       "\n",
       "    .dataframe thead th {\n",
       "        text-align: right;\n",
       "    }\n",
       "</style>\n",
       "<table border=\"1\" class=\"dataframe\">\n",
       "  <thead>\n",
       "    <tr style=\"text-align: right;\">\n",
       "      <th></th>\n",
       "      <th>Loan_ID</th>\n",
       "      <th>Gender</th>\n",
       "      <th>Married</th>\n",
       "      <th>Dependents</th>\n",
       "      <th>Education</th>\n",
       "      <th>Self_Employed</th>\n",
       "      <th>ApplicantIncome</th>\n",
       "      <th>CoapplicantIncome</th>\n",
       "      <th>LoanAmount</th>\n",
       "      <th>Loan_Amount_Term</th>\n",
       "      <th>Credit_History</th>\n",
       "      <th>Property_Area</th>\n",
       "      <th>Loan_Status</th>\n",
       "    </tr>\n",
       "  </thead>\n",
       "  <tbody>\n",
       "    <tr>\n",
       "      <th>0</th>\n",
       "      <td>LP001002</td>\n",
       "      <td>Male</td>\n",
       "      <td>No</td>\n",
       "      <td>0</td>\n",
       "      <td>Graduate</td>\n",
       "      <td>No</td>\n",
       "      <td>5849</td>\n",
       "      <td>0.0</td>\n",
       "      <td>NaN</td>\n",
       "      <td>360.0</td>\n",
       "      <td>1.0</td>\n",
       "      <td>Urban</td>\n",
       "      <td>Y</td>\n",
       "    </tr>\n",
       "    <tr>\n",
       "      <th>1</th>\n",
       "      <td>LP001003</td>\n",
       "      <td>Male</td>\n",
       "      <td>Yes</td>\n",
       "      <td>1</td>\n",
       "      <td>Graduate</td>\n",
       "      <td>No</td>\n",
       "      <td>4583</td>\n",
       "      <td>1508.0</td>\n",
       "      <td>128.0</td>\n",
       "      <td>360.0</td>\n",
       "      <td>1.0</td>\n",
       "      <td>Rural</td>\n",
       "      <td>N</td>\n",
       "    </tr>\n",
       "    <tr>\n",
       "      <th>2</th>\n",
       "      <td>LP001005</td>\n",
       "      <td>Male</td>\n",
       "      <td>Yes</td>\n",
       "      <td>0</td>\n",
       "      <td>Graduate</td>\n",
       "      <td>Yes</td>\n",
       "      <td>3000</td>\n",
       "      <td>0.0</td>\n",
       "      <td>66.0</td>\n",
       "      <td>360.0</td>\n",
       "      <td>1.0</td>\n",
       "      <td>Urban</td>\n",
       "      <td>Y</td>\n",
       "    </tr>\n",
       "    <tr>\n",
       "      <th>3</th>\n",
       "      <td>LP001006</td>\n",
       "      <td>Male</td>\n",
       "      <td>Yes</td>\n",
       "      <td>0</td>\n",
       "      <td>Not Graduate</td>\n",
       "      <td>No</td>\n",
       "      <td>2583</td>\n",
       "      <td>2358.0</td>\n",
       "      <td>120.0</td>\n",
       "      <td>360.0</td>\n",
       "      <td>1.0</td>\n",
       "      <td>Urban</td>\n",
       "      <td>Y</td>\n",
       "    </tr>\n",
       "    <tr>\n",
       "      <th>4</th>\n",
       "      <td>LP001008</td>\n",
       "      <td>Male</td>\n",
       "      <td>No</td>\n",
       "      <td>0</td>\n",
       "      <td>Graduate</td>\n",
       "      <td>No</td>\n",
       "      <td>6000</td>\n",
       "      <td>0.0</td>\n",
       "      <td>141.0</td>\n",
       "      <td>360.0</td>\n",
       "      <td>1.0</td>\n",
       "      <td>Urban</td>\n",
       "      <td>Y</td>\n",
       "    </tr>\n",
       "  </tbody>\n",
       "</table>\n",
       "</div>"
      ],
      "text/plain": [
       "    Loan_ID Gender Married Dependents     Education Self_Employed  \\\n",
       "0  LP001002   Male      No          0      Graduate            No   \n",
       "1  LP001003   Male     Yes          1      Graduate            No   \n",
       "2  LP001005   Male     Yes          0      Graduate           Yes   \n",
       "3  LP001006   Male     Yes          0  Not Graduate            No   \n",
       "4  LP001008   Male      No          0      Graduate            No   \n",
       "\n",
       "   ApplicantIncome  CoapplicantIncome  LoanAmount  Loan_Amount_Term  \\\n",
       "0             5849                0.0         NaN             360.0   \n",
       "1             4583             1508.0       128.0             360.0   \n",
       "2             3000                0.0        66.0             360.0   \n",
       "3             2583             2358.0       120.0             360.0   \n",
       "4             6000                0.0       141.0             360.0   \n",
       "\n",
       "   Credit_History Property_Area Loan_Status  \n",
       "0             1.0         Urban           Y  \n",
       "1             1.0         Rural           N  \n",
       "2             1.0         Urban           Y  \n",
       "3             1.0         Urban           Y  \n",
       "4             1.0         Urban           Y  "
      ]
     },
     "execution_count": 43,
     "metadata": {},
     "output_type": "execute_result"
    }
   ],
   "source": [
    "df = pd.read_csv('https://raw.githubusercontent.com/rohitmande-inttrvu/finance_loan_approval/refs/heads/main/Finance.csv')\n",
    "df.head()"
   ]
  },
  {
   "cell_type": "code",
   "execution_count": 44,
   "id": "9db7895d",
   "metadata": {},
   "outputs": [],
   "source": [
    "# DROP LOAD_ID\n",
    "df.drop(columns=['Loan_ID'],inplace=True)"
   ]
  },
  {
   "cell_type": "code",
   "execution_count": 45,
   "id": "53bd33a2",
   "metadata": {},
   "outputs": [
    {
     "name": "stderr",
     "output_type": "stream",
     "text": [
      "C:\\Users\\Yogesh\\AppData\\Local\\Temp\\ipykernel_16740\\125627036.py:1: FutureWarning: A value is trying to be set on a copy of a DataFrame or Series through chained assignment using an inplace method.\n",
      "The behavior will change in pandas 3.0. This inplace method will never work because the intermediate object on which we are setting values always behaves as a copy.\n",
      "\n",
      "For example, when doing 'df[col].method(value, inplace=True)', try using 'df.method({col: value}, inplace=True)' or df[col] = df[col].method(value) instead, to perform the operation inplace on the original object.\n",
      "\n",
      "\n",
      "  df['Loan_Status'].replace({'Y':1,'N':0},inplace=True)\n",
      "C:\\Users\\Yogesh\\AppData\\Local\\Temp\\ipykernel_16740\\125627036.py:1: FutureWarning: Downcasting behavior in `replace` is deprecated and will be removed in a future version. To retain the old behavior, explicitly call `result.infer_objects(copy=False)`. To opt-in to the future behavior, set `pd.set_option('future.no_silent_downcasting', True)`\n",
      "  df['Loan_Status'].replace({'Y':1,'N':0},inplace=True)\n"
     ]
    }
   ],
   "source": [
    "df['Loan_Status'].replace({'Y':1,'N':0},inplace=True)"
   ]
  },
  {
   "cell_type": "code",
   "execution_count": 46,
   "id": "6d80b22b",
   "metadata": {},
   "outputs": [
    {
     "data": {
      "text/html": [
       "<pre style=\"white-space:pre;overflow-x:auto;line-height:normal;font-family:Menlo,'DejaVu Sans Mono',consolas,'Courier New',monospace\">Initialized MLflow to track repo <span style=\"color: #008000; text-decoration-color: #008000\">\"yogibaba7/loan_approval_prediction\"</span>\n",
       "</pre>\n"
      ],
      "text/plain": [
       "Initialized MLflow to track repo \u001b[32m\"yogibaba7/loan_approval_prediction\"\u001b[0m\n"
      ]
     },
     "metadata": {},
     "output_type": "display_data"
    },
    {
     "data": {
      "text/html": [
       "<pre style=\"white-space:pre;overflow-x:auto;line-height:normal;font-family:Menlo,'DejaVu Sans Mono',consolas,'Courier New',monospace\">Repository yogibaba7/loan_approval_prediction initialized!\n",
       "</pre>\n"
      ],
      "text/plain": [
       "Repository yogibaba7/loan_approval_prediction initialized!\n"
      ]
     },
     "metadata": {},
     "output_type": "display_data"
    },
    {
     "data": {
      "text/plain": [
       "<Experiment: artifact_location='mlflow-artifacts:/dfe82e3a2312477987a03ff48b7ea109', creation_time=1744459320293, experiment_id='2', last_update_time=1744459320293, lifecycle_stage='active', name='exp3_scaling', tags={}>"
      ]
     },
     "execution_count": 46,
     "metadata": {},
     "output_type": "execute_result"
    }
   ],
   "source": [
    "#CONFIGURE EXPERIMENT\n",
    "import mlflow\n",
    "import dagshub\n",
    "dagshub.init(repo_owner='yogibaba7', repo_name='loan_approval_prediction', mlflow=True)\n",
    "# set tracking uri\n",
    "mlflow.set_tracking_uri('https://dagshub.com/yogibaba7/loan_approval_prediction.mlflow/')\n",
    "# create a experiment\n",
    "mlflow.set_experiment('exp3_scaling')"
   ]
  },
  {
   "cell_type": "code",
   "execution_count": 47,
   "id": "e489d0a3",
   "metadata": {},
   "outputs": [
    {
     "name": "stdout",
     "output_type": "stream",
     "text": [
      "Categorical cols : ['Gender', 'Married', 'Dependents', 'Education', 'Self_Employed', 'Credit_History', 'Property_Area']\n",
      "Numerical cols : ['ApplicantIncome', 'CoapplicantIncome', 'LoanAmount', 'Loan_Amount_Term']\n"
     ]
    },
    {
     "name": "stderr",
     "output_type": "stream",
     "text": [
      "2025/04/12 18:01:46 WARNING mlflow.models.model: Model logged without a signature and input example. Please set `input_example` parameter when logging the model to auto infer the model signature.\n"
     ]
    },
    {
     "name": "stdout",
     "output_type": "stream",
     "text": [
      "accuracy score : 0.7723577235772358\n",
      "precision score : 0.7549019607843137\n",
      "recall score : 0.9625\n",
      "f1 score : 0.8461538461538461\n",
      "---------------------------------------------------------\n",
      "🏃 View run suave-smelt-416 at: https://dagshub.com/yogibaba7/loan_approval_prediction.mlflow/#/experiments/2/runs/9b227a0c63f340c6942a1930baadc408\n",
      "🧪 View experiment at: https://dagshub.com/yogibaba7/loan_approval_prediction.mlflow/#/experiments/2\n"
     ]
    },
    {
     "name": "stderr",
     "output_type": "stream",
     "text": [
      "2025/04/12 18:02:01 WARNING mlflow.models.model: Model logged without a signature and input example. Please set `input_example` parameter when logging the model to auto infer the model signature.\n"
     ]
    },
    {
     "name": "stdout",
     "output_type": "stream",
     "text": [
      "accuracy score : 0.7560975609756098\n",
      "precision score : 0.75\n",
      "recall score : 0.9375\n",
      "f1 score : 0.8333333333333334\n",
      "---------------------------------------------------------\n",
      "🏃 View run learned-shad-314 at: https://dagshub.com/yogibaba7/loan_approval_prediction.mlflow/#/experiments/2/runs/e438d3bf54404faa95298b05a2abcb9e\n",
      "🧪 View experiment at: https://dagshub.com/yogibaba7/loan_approval_prediction.mlflow/#/experiments/2\n"
     ]
    },
    {
     "name": "stderr",
     "output_type": "stream",
     "text": [
      "2025/04/12 18:02:16 WARNING mlflow.models.model: Model logged without a signature and input example. Please set `input_example` parameter when logging the model to auto infer the model signature.\n"
     ]
    },
    {
     "name": "stdout",
     "output_type": "stream",
     "text": [
      "accuracy score : 0.7723577235772358\n",
      "precision score : 0.7549019607843137\n",
      "recall score : 0.9625\n",
      "f1 score : 0.8461538461538461\n",
      "---------------------------------------------------------\n",
      "🏃 View run fortunate-kit-944 at: https://dagshub.com/yogibaba7/loan_approval_prediction.mlflow/#/experiments/2/runs/3af0c44eb95a45098e8d8e0ca28e3b44\n",
      "🧪 View experiment at: https://dagshub.com/yogibaba7/loan_approval_prediction.mlflow/#/experiments/2\n"
     ]
    },
    {
     "name": "stderr",
     "output_type": "stream",
     "text": [
      "2025/04/12 18:02:31 WARNING mlflow.models.model: Model logged without a signature and input example. Please set `input_example` parameter when logging the model to auto infer the model signature.\n"
     ]
    },
    {
     "name": "stdout",
     "output_type": "stream",
     "text": [
      "accuracy score : 0.7886178861788617\n",
      "precision score : 0.77\n",
      "recall score : 0.9625\n",
      "f1 score : 0.8555555555555555\n",
      "---------------------------------------------------------\n",
      "🏃 View run gaudy-hog-113 at: https://dagshub.com/yogibaba7/loan_approval_prediction.mlflow/#/experiments/2/runs/87028b07940b4a96bbb1223c6dd8c62c\n",
      "🧪 View experiment at: https://dagshub.com/yogibaba7/loan_approval_prediction.mlflow/#/experiments/2\n",
      "🏃 View run unruly-conch-188 at: https://dagshub.com/yogibaba7/loan_approval_prediction.mlflow/#/experiments/2/runs/39e839fad46249088335fb3f05cc4456\n",
      "🧪 View experiment at: https://dagshub.com/yogibaba7/loan_approval_prediction.mlflow/#/experiments/2\n"
     ]
    }
   ],
   "source": [
    "from sklearn.experimental import enable_iterative_imputer\n",
    "from sklearn.impute import IterativeImputer\n",
    "\n",
    "with mlflow.start_run(nested=True,description='this experiment is created for find the  best scaler'):\n",
    "    X_train,X_test,y_train,y_test = train_test_split(df.drop(columns=['Loan_Status']),df['Loan_Status'],test_size=0.2,random_state=42)\n",
    "    # CATEGORICAL COLUMNS AND NUMERICAL COLUMNS\n",
    "    cat_cols = []\n",
    "    num_cols = []\n",
    "    columns = X_train.columns\n",
    "    for col in columns:\n",
    "        if df[col].nunique()<5:\n",
    "            cat_cols.append(col)\n",
    "        else:\n",
    "            num_cols.append(col)\n",
    "    print(f\"Categorical cols : {cat_cols}\")\n",
    "    print(f\"Numerical cols : {num_cols}\")\n",
    "\n",
    "    # encoding\n",
    "    oe = OrdinalEncoder()\n",
    "    X_train[cat_cols] = oe.fit_transform(X_train[cat_cols])\n",
    "    X_test[cat_cols] = oe.transform(X_test[cat_cols])\n",
    "\n",
    "    # iterative imputer\n",
    "    iterativeimputer = IterativeImputer()\n",
    "    X_train = iterativeimputer.fit_transform(X_train)\n",
    "    X_test = iterativeimputer.transform(X_test)\n",
    "\n",
    "    X_train = pd.DataFrame(X_train,columns=columns)\n",
    "    X_test = pd.DataFrame(X_test,columns=columns)\n",
    "\n",
    "    scalers = [StandardScaler(),MinMaxScaler(),MaxAbsScaler(),RobustScaler()]\n",
    "    for scaler in scalers:\n",
    "        with mlflow.start_run(nested=True,description=f\"this run is done by {scaler}\"):\n",
    "            # scaling\n",
    "            X_train[num_cols] = scaler.fit_transform(X_train[num_cols])\n",
    "            X_test[num_cols] = scaler.transform(X_test[num_cols])\n",
    "\n",
    "            # log imputer \n",
    "            mlflow.log_param('imputer','iterativeimputer')\n",
    "            mlflow.log_param('scaler',scaler)\n",
    "\n",
    "            # model training\n",
    "            lr = RandomForestClassifier()\n",
    "            lr.fit(X_train,y_train)\n",
    "            y_pred = lr.predict(X_test)\n",
    "\n",
    "            # log model\n",
    "            mlflow.sklearn.log_model(lr,'LogisticRegression')\n",
    "\n",
    "            # model evaluations\n",
    "            accuracy = accuracy_score(y_test,y_pred)\n",
    "            precision = precision_score(y_test,y_pred)\n",
    "            recall = recall_score(y_test,y_pred)\n",
    "            f1 = f1_score(y_test,y_pred)\n",
    "\n",
    "            # log metrics \n",
    "            mlflow.log_metric('accuracy',accuracy)\n",
    "            mlflow.log_metric('precision',precision)\n",
    "            mlflow.log_metric('recall',recall)\n",
    "            mlflow.log_metric('f1',f1)\n",
    "\n",
    "            # Save and log the notebook\n",
    "            import os\n",
    "            notebook_path = \"exp1_baseline_model.ipynb\"\n",
    "            os.system(f\"jupyter nbconvert --to notebook --execute --inplace {notebook_path}\")\n",
    "            mlflow.log_artifact(notebook_path)\n",
    "\n",
    "            \n",
    "            print(f\"accuracy score : {accuracy}\")\n",
    "            print(f\"precision score : {precision}\")\n",
    "            print(f\"recall score : {recall}\")\n",
    "            print(f\"f1 score : {f1}\")     \n",
    "            print(\"---------------------------------------------------------\")\n"
   ]
  },
  {
   "cell_type": "code",
   "execution_count": null,
   "id": "6c9ad09c",
   "metadata": {},
   "outputs": [],
   "source": []
  },
  {
   "cell_type": "code",
   "execution_count": null,
   "id": "f90ebc0c",
   "metadata": {},
   "outputs": [],
   "source": []
  },
  {
   "cell_type": "code",
   "execution_count": null,
   "id": "3da71ec4",
   "metadata": {},
   "outputs": [],
   "source": []
  },
  {
   "cell_type": "code",
   "execution_count": null,
   "id": "e6d734a9",
   "metadata": {},
   "outputs": [],
   "source": []
  }
 ],
 "metadata": {
  "kernelspec": {
   "display_name": "myvenv",
   "language": "python",
   "name": "python3"
  },
  "language_info": {
   "codemirror_mode": {
    "name": "ipython",
    "version": 3
   },
   "file_extension": ".py",
   "mimetype": "text/x-python",
   "name": "python",
   "nbconvert_exporter": "python",
   "pygments_lexer": "ipython3",
   "version": "3.11.7"
  }
 },
 "nbformat": 4,
 "nbformat_minor": 5
}
