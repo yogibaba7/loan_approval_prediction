{
 "cells": [
  {
   "cell_type": "code",
   "execution_count": 34,
   "id": "361fc666",
   "metadata": {},
   "outputs": [],
   "source": [
    "# IMPORT LIBRIES\n",
    "import pandas as pd \n",
    "import numpy as np \n",
    "\n",
    "from sklearn.model_selection import train_test_split\n",
    "from sklearn.preprocessing import OrdinalEncoder\n",
    "from sklearn.experimental import enable_iterative_imputer\n",
    "from sklearn.impute import IterativeImputer\n",
    "from sklearn.preprocessing import RobustScaler\n",
    "from sklearn.ensemble import AdaBoostClassifier\n",
    "from sklearn.metrics import accuracy_score,recall_score,precision_score,f1_score\n",
    "from sklearn.model_selection import cross_val_score\n",
    "import optuna\n",
    "from sklearn.model_selection import GridSearchCV\n"
   ]
  },
  {
   "cell_type": "code",
   "execution_count": 8,
   "id": "e70953c2",
   "metadata": {},
   "outputs": [
    {
     "data": {
      "text/html": [
       "<div>\n",
       "<style scoped>\n",
       "    .dataframe tbody tr th:only-of-type {\n",
       "        vertical-align: middle;\n",
       "    }\n",
       "\n",
       "    .dataframe tbody tr th {\n",
       "        vertical-align: top;\n",
       "    }\n",
       "\n",
       "    .dataframe thead th {\n",
       "        text-align: right;\n",
       "    }\n",
       "</style>\n",
       "<table border=\"1\" class=\"dataframe\">\n",
       "  <thead>\n",
       "    <tr style=\"text-align: right;\">\n",
       "      <th></th>\n",
       "      <th>Loan_ID</th>\n",
       "      <th>Gender</th>\n",
       "      <th>Married</th>\n",
       "      <th>Dependents</th>\n",
       "      <th>Education</th>\n",
       "      <th>Self_Employed</th>\n",
       "      <th>ApplicantIncome</th>\n",
       "      <th>CoapplicantIncome</th>\n",
       "      <th>LoanAmount</th>\n",
       "      <th>Loan_Amount_Term</th>\n",
       "      <th>Credit_History</th>\n",
       "      <th>Property_Area</th>\n",
       "      <th>Loan_Status</th>\n",
       "    </tr>\n",
       "  </thead>\n",
       "  <tbody>\n",
       "    <tr>\n",
       "      <th>0</th>\n",
       "      <td>LP001002</td>\n",
       "      <td>Male</td>\n",
       "      <td>No</td>\n",
       "      <td>0</td>\n",
       "      <td>Graduate</td>\n",
       "      <td>No</td>\n",
       "      <td>5849</td>\n",
       "      <td>0.0</td>\n",
       "      <td>NaN</td>\n",
       "      <td>360.0</td>\n",
       "      <td>1.0</td>\n",
       "      <td>Urban</td>\n",
       "      <td>Y</td>\n",
       "    </tr>\n",
       "    <tr>\n",
       "      <th>1</th>\n",
       "      <td>LP001003</td>\n",
       "      <td>Male</td>\n",
       "      <td>Yes</td>\n",
       "      <td>1</td>\n",
       "      <td>Graduate</td>\n",
       "      <td>No</td>\n",
       "      <td>4583</td>\n",
       "      <td>1508.0</td>\n",
       "      <td>128.0</td>\n",
       "      <td>360.0</td>\n",
       "      <td>1.0</td>\n",
       "      <td>Rural</td>\n",
       "      <td>N</td>\n",
       "    </tr>\n",
       "    <tr>\n",
       "      <th>2</th>\n",
       "      <td>LP001005</td>\n",
       "      <td>Male</td>\n",
       "      <td>Yes</td>\n",
       "      <td>0</td>\n",
       "      <td>Graduate</td>\n",
       "      <td>Yes</td>\n",
       "      <td>3000</td>\n",
       "      <td>0.0</td>\n",
       "      <td>66.0</td>\n",
       "      <td>360.0</td>\n",
       "      <td>1.0</td>\n",
       "      <td>Urban</td>\n",
       "      <td>Y</td>\n",
       "    </tr>\n",
       "    <tr>\n",
       "      <th>3</th>\n",
       "      <td>LP001006</td>\n",
       "      <td>Male</td>\n",
       "      <td>Yes</td>\n",
       "      <td>0</td>\n",
       "      <td>Not Graduate</td>\n",
       "      <td>No</td>\n",
       "      <td>2583</td>\n",
       "      <td>2358.0</td>\n",
       "      <td>120.0</td>\n",
       "      <td>360.0</td>\n",
       "      <td>1.0</td>\n",
       "      <td>Urban</td>\n",
       "      <td>Y</td>\n",
       "    </tr>\n",
       "    <tr>\n",
       "      <th>4</th>\n",
       "      <td>LP001008</td>\n",
       "      <td>Male</td>\n",
       "      <td>No</td>\n",
       "      <td>0</td>\n",
       "      <td>Graduate</td>\n",
       "      <td>No</td>\n",
       "      <td>6000</td>\n",
       "      <td>0.0</td>\n",
       "      <td>141.0</td>\n",
       "      <td>360.0</td>\n",
       "      <td>1.0</td>\n",
       "      <td>Urban</td>\n",
       "      <td>Y</td>\n",
       "    </tr>\n",
       "  </tbody>\n",
       "</table>\n",
       "</div>"
      ],
      "text/plain": [
       "    Loan_ID Gender Married Dependents     Education Self_Employed  \\\n",
       "0  LP001002   Male      No          0      Graduate            No   \n",
       "1  LP001003   Male     Yes          1      Graduate            No   \n",
       "2  LP001005   Male     Yes          0      Graduate           Yes   \n",
       "3  LP001006   Male     Yes          0  Not Graduate            No   \n",
       "4  LP001008   Male      No          0      Graduate            No   \n",
       "\n",
       "   ApplicantIncome  CoapplicantIncome  LoanAmount  Loan_Amount_Term  \\\n",
       "0             5849                0.0         NaN             360.0   \n",
       "1             4583             1508.0       128.0             360.0   \n",
       "2             3000                0.0        66.0             360.0   \n",
       "3             2583             2358.0       120.0             360.0   \n",
       "4             6000                0.0       141.0             360.0   \n",
       "\n",
       "   Credit_History Property_Area Loan_Status  \n",
       "0             1.0         Urban           Y  \n",
       "1             1.0         Rural           N  \n",
       "2             1.0         Urban           Y  \n",
       "3             1.0         Urban           Y  \n",
       "4             1.0         Urban           Y  "
      ]
     },
     "execution_count": 8,
     "metadata": {},
     "output_type": "execute_result"
    }
   ],
   "source": [
    "# IMPORT DATASET\n",
    "df = pd.read_csv('https://raw.githubusercontent.com/rohitmande-inttrvu/finance_loan_approval/refs/heads/main/Finance.csv')\n",
    "df.head()"
   ]
  },
  {
   "cell_type": "code",
   "execution_count": 9,
   "id": "9429abc3",
   "metadata": {},
   "outputs": [],
   "source": [
    "# DROP LOAD_ID\n",
    "df.drop(columns=['Loan_ID'],inplace=True)"
   ]
  },
  {
   "cell_type": "code",
   "execution_count": 10,
   "id": "5c08d42f",
   "metadata": {},
   "outputs": [
    {
     "name": "stderr",
     "output_type": "stream",
     "text": [
      "C:\\Users\\Yogesh\\AppData\\Local\\Temp\\ipykernel_3632\\125627036.py:1: FutureWarning: A value is trying to be set on a copy of a DataFrame or Series through chained assignment using an inplace method.\n",
      "The behavior will change in pandas 3.0. This inplace method will never work because the intermediate object on which we are setting values always behaves as a copy.\n",
      "\n",
      "For example, when doing 'df[col].method(value, inplace=True)', try using 'df.method({col: value}, inplace=True)' or df[col] = df[col].method(value) instead, to perform the operation inplace on the original object.\n",
      "\n",
      "\n",
      "  df['Loan_Status'].replace({'Y':1,'N':0},inplace=True)\n",
      "C:\\Users\\Yogesh\\AppData\\Local\\Temp\\ipykernel_3632\\125627036.py:1: FutureWarning: Downcasting behavior in `replace` is deprecated and will be removed in a future version. To retain the old behavior, explicitly call `result.infer_objects(copy=False)`. To opt-in to the future behavior, set `pd.set_option('future.no_silent_downcasting', True)`\n",
      "  df['Loan_Status'].replace({'Y':1,'N':0},inplace=True)\n"
     ]
    }
   ],
   "source": [
    "df['Loan_Status'].replace({'Y':1,'N':0},inplace=True)"
   ]
  },
  {
   "cell_type": "code",
   "execution_count": 31,
   "id": "b5908186",
   "metadata": {},
   "outputs": [
    {
     "name": "stdout",
     "output_type": "stream",
     "text": [
      "Categorical cols : ['Gender', 'Married', 'Dependents', 'Education', 'Self_Employed', 'Credit_History', 'Property_Area']\n",
      "Numerical cols : ['ApplicantIncome', 'CoapplicantIncome', 'LoanAmount', 'Loan_Amount_Term']\n"
     ]
    }
   ],
   "source": [
    "\n",
    "X_train,X_test,y_train,y_test = train_test_split(df.drop(columns=['Loan_Status']),df['Loan_Status'],test_size=0.2)\n",
    "# CATEGORICAL COLUMNS AND NUMERICAL COLUMNS\n",
    "cat_cols = []\n",
    "num_cols = []\n",
    "columns = X_train.columns\n",
    "for col in columns:\n",
    "    if df[col].nunique()<5:\n",
    "        cat_cols.append(col)\n",
    "    else:\n",
    "        num_cols.append(col)\n",
    "print(f\"Categorical cols : {cat_cols}\")\n",
    "print(f\"Numerical cols : {num_cols}\")\n",
    "\n",
    "# encoding\n",
    "oe = OrdinalEncoder()\n",
    "X_train[cat_cols] = oe.fit_transform(X_train[cat_cols])\n",
    "X_test[cat_cols] = oe.transform(X_test[cat_cols])\n",
    "\n",
    "# iterative imputer\n",
    "iterativeimputer = IterativeImputer()\n",
    "X_train = iterativeimputer.fit_transform(X_train)\n",
    "X_test = iterativeimputer.transform(X_test)\n",
    "\n",
    "X_train = pd.DataFrame(X_train,columns=columns)\n",
    "X_test = pd.DataFrame(X_test,columns=columns)\n",
    "\n",
    "# scaling\n",
    "scaler = RobustScaler()\n",
    "X_train[num_cols] = scaler.fit_transform(X_train[num_cols])\n",
    "X_test[num_cols] = scaler.transform(X_test[num_cols])"
   ]
  },
  {
   "cell_type": "code",
   "execution_count": 32,
   "id": "d59bd135",
   "metadata": {},
   "outputs": [],
   "source": [
    "# create objective function\n",
    "def objective(trial):\n",
    "    # define parameters\n",
    "    n_estimator = trial.suggest_int('n_estimator',50,500)\n",
    "    learning_rate = trial.suggest_float('learning_rate',0.001,0.1)\n",
    "\n",
    "    # adaboost model\n",
    "    abc = AdaBoostClassifier(n_estimators=n_estimator,learning_rate=learning_rate)\n",
    "    score = cross_val_score(abc,X_train,y_train,cv=3,scoring='accuracy').mean()\n",
    "\n",
    "    return score "
   ]
  },
  {
   "cell_type": "code",
   "execution_count": 33,
   "id": "26992828",
   "metadata": {},
   "outputs": [
    {
     "name": "stderr",
     "output_type": "stream",
     "text": [
      "[I 2025-04-13 17:58:33,927] A new study created in memory with name: no-name-092a1792-0e25-4686-b08e-a0ab1a8716c1\n",
      "[I 2025-04-13 17:58:34,617] Trial 0 finished with value: 0.8004264551847973 and parameters: {'n_estimator': 62, 'learning_rate': 0.04944769177058639}. Best is trial 0 with value: 0.8004264551847973.\n",
      "[I 2025-04-13 17:58:36,170] Trial 1 finished with value: 0.8004264551847973 and parameters: {'n_estimator': 137, 'learning_rate': 0.03568500438232562}. Best is trial 0 with value: 0.8004264551847973.\n",
      "[I 2025-04-13 17:58:38,921] Trial 2 finished with value: 0.8024589755100004 and parameters: {'n_estimator': 259, 'learning_rate': 0.05226514249095221}. Best is trial 2 with value: 0.8024589755100004.\n",
      "[I 2025-04-13 17:58:44,236] Trial 3 finished with value: 0.8024589755100004 and parameters: {'n_estimator': 499, 'learning_rate': 0.01805760515851072}. Best is trial 2 with value: 0.8024589755100004.\n",
      "[I 2025-04-13 17:58:48,379] Trial 4 finished with value: 0.8024589755100004 and parameters: {'n_estimator': 398, 'learning_rate': 0.024527424111472698}. Best is trial 2 with value: 0.8024589755100004.\n",
      "[I 2025-04-13 17:58:50,390] Trial 5 finished with value: 0.8024589755100004 and parameters: {'n_estimator': 189, 'learning_rate': 0.056661274969093386}. Best is trial 2 with value: 0.8024589755100004.\n",
      "[I 2025-04-13 17:58:54,920] Trial 6 finished with value: 0.8004264551847973 and parameters: {'n_estimator': 434, 'learning_rate': 0.09782347347289783}. Best is trial 2 with value: 0.8024589755100004.\n",
      "[I 2025-04-13 17:58:58,547] Trial 7 finished with value: 0.8024589755100004 and parameters: {'n_estimator': 341, 'learning_rate': 0.08394629537949261}. Best is trial 2 with value: 0.8024589755100004.\n",
      "[I 2025-04-13 17:58:59,905] Trial 8 finished with value: 0.8024589755100004 and parameters: {'n_estimator': 126, 'learning_rate': 0.08235716154362094}. Best is trial 2 with value: 0.8024589755100004.\n",
      "[I 2025-04-13 17:59:00,568] Trial 9 finished with value: 0.8004264551847973 and parameters: {'n_estimator': 60, 'learning_rate': 0.09934624187408402}. Best is trial 2 with value: 0.8024589755100004.\n",
      "[I 2025-04-13 17:59:03,333] Trial 10 finished with value: 0.7983939348595941 and parameters: {'n_estimator': 258, 'learning_rate': 0.0010696539937257443}. Best is trial 2 with value: 0.8024589755100004.\n",
      "[I 2025-04-13 17:59:06,621] Trial 11 finished with value: 0.8004264551847973 and parameters: {'n_estimator': 296, 'learning_rate': 0.008635679077971022}. Best is trial 2 with value: 0.8024589755100004.\n",
      "[I 2025-04-13 17:59:11,752] Trial 12 finished with value: 0.8024589755100004 and parameters: {'n_estimator': 483, 'learning_rate': 0.055889884406065564}. Best is trial 2 with value: 0.8024589755100004.\n",
      "[I 2025-04-13 17:59:14,519] Trial 13 finished with value: 0.8004264551847973 and parameters: {'n_estimator': 248, 'learning_rate': 0.024040601082959006}. Best is trial 2 with value: 0.8024589755100004.\n",
      "[I 2025-04-13 17:59:18,417] Trial 14 finished with value: 0.8024589755100004 and parameters: {'n_estimator': 356, 'learning_rate': 0.03956184291824642}. Best is trial 2 with value: 0.8024589755100004.\n",
      "[I 2025-04-13 17:59:23,763] Trial 15 finished with value: 0.8024589755100004 and parameters: {'n_estimator': 488, 'learning_rate': 0.06415427273411238}. Best is trial 2 with value: 0.8024589755100004.\n",
      "[I 2025-04-13 17:59:25,960] Trial 16 finished with value: 0.8004264551847973 and parameters: {'n_estimator': 204, 'learning_rate': 0.018561421163598855}. Best is trial 2 with value: 0.8024589755100004.\n",
      "[I 2025-04-13 17:59:29,528] Trial 17 finished with value: 0.8004264551847973 and parameters: {'n_estimator': 331, 'learning_rate': 0.07290208715785149}. Best is trial 2 with value: 0.8024589755100004.\n",
      "[I 2025-04-13 17:59:33,778] Trial 18 finished with value: 0.8024589755100004 and parameters: {'n_estimator': 397, 'learning_rate': 0.03891117053703569}. Best is trial 2 with value: 0.8024589755100004.\n",
      "[I 2025-04-13 17:59:36,817] Trial 19 finished with value: 0.8024589755100004 and parameters: {'n_estimator': 288, 'learning_rate': 0.04671898047918287}. Best is trial 2 with value: 0.8024589755100004.\n",
      "[I 2025-04-13 17:59:39,272] Trial 20 finished with value: 0.8004264551847973 and parameters: {'n_estimator': 222, 'learning_rate': 0.029752170961977985}. Best is trial 2 with value: 0.8024589755100004.\n",
      "[I 2025-04-13 17:59:43,921] Trial 21 finished with value: 0.8024589755100004 and parameters: {'n_estimator': 429, 'learning_rate': 0.016764230699199145}. Best is trial 2 with value: 0.8024589755100004.\n",
      "[I 2025-04-13 17:59:48,193] Trial 22 finished with value: 0.8004264551847973 and parameters: {'n_estimator': 398, 'learning_rate': 0.009440827122544432}. Best is trial 2 with value: 0.8024589755100004.\n",
      "[I 2025-04-13 17:59:53,025] Trial 23 finished with value: 0.8024589755100004 and parameters: {'n_estimator': 449, 'learning_rate': 0.024873466100851654}. Best is trial 2 with value: 0.8024589755100004.\n",
      "[I 2025-04-13 17:59:57,096] Trial 24 finished with value: 0.8024589755100004 and parameters: {'n_estimator': 379, 'learning_rate': 0.03253660497542867}. Best is trial 2 with value: 0.8024589755100004.\n",
      "[I 2025-04-13 18:00:02,096] Trial 25 finished with value: 0.8024589755100004 and parameters: {'n_estimator': 465, 'learning_rate': 0.042681930098322884}. Best is trial 2 with value: 0.8024589755100004.\n",
      "[I 2025-04-13 18:00:05,524] Trial 26 finished with value: 0.8024589755100004 and parameters: {'n_estimator': 321, 'learning_rate': 0.06458251967807187}. Best is trial 2 with value: 0.8024589755100004.\n",
      "[I 2025-04-13 18:00:11,073] Trial 27 finished with value: 0.8004264551847973 and parameters: {'n_estimator': 499, 'learning_rate': 0.011850906259439105}. Best is trial 2 with value: 0.8024589755100004.\n",
      "[I 2025-04-13 18:00:15,558] Trial 28 finished with value: 0.8024589755100004 and parameters: {'n_estimator': 415, 'learning_rate': 0.027452088836429026}. Best is trial 2 with value: 0.8024589755100004.\n",
      "[I 2025-04-13 18:00:17,187] Trial 29 finished with value: 0.8024589755100004 and parameters: {'n_estimator': 155, 'learning_rate': 0.051369455416509856}. Best is trial 2 with value: 0.8024589755100004.\n",
      "[I 2025-04-13 18:00:21,106] Trial 30 finished with value: 0.8004264551847973 and parameters: {'n_estimator': 367, 'learning_rate': 0.018693809742724228}. Best is trial 2 with value: 0.8024589755100004.\n",
      "[I 2025-04-13 18:00:23,243] Trial 31 finished with value: 0.8024589755100004 and parameters: {'n_estimator': 199, 'learning_rate': 0.05963974141907683}. Best is trial 2 with value: 0.8024589755100004.\n",
      "[I 2025-04-13 18:00:25,019] Trial 32 finished with value: 0.8024589755100004 and parameters: {'n_estimator': 166, 'learning_rate': 0.048232532130166976}. Best is trial 2 with value: 0.8024589755100004.\n",
      "[I 2025-04-13 18:00:26,226] Trial 33 finished with value: 0.8024589755100004 and parameters: {'n_estimator': 105, 'learning_rate': 0.06814178560825158}. Best is trial 2 with value: 0.8024589755100004.\n",
      "[I 2025-04-13 18:00:28,660] Trial 34 finished with value: 0.8024589755100004 and parameters: {'n_estimator': 228, 'learning_rate': 0.053911865427479826}. Best is trial 2 with value: 0.8024589755100004.\n",
      "[I 2025-04-13 18:00:31,938] Trial 35 finished with value: 0.8024589755100004 and parameters: {'n_estimator': 306, 'learning_rate': 0.07478826017662471}. Best is trial 2 with value: 0.8024589755100004.\n",
      "[I 2025-04-13 18:00:32,965] Trial 36 finished with value: 0.7983939348595941 and parameters: {'n_estimator': 93, 'learning_rate': 0.0013178397106219097}. Best is trial 2 with value: 0.8024589755100004.\n",
      "[I 2025-04-13 18:00:35,802] Trial 37 finished with value: 0.8024589755100004 and parameters: {'n_estimator': 264, 'learning_rate': 0.04291833732707061}. Best is trial 2 with value: 0.8024589755100004.\n",
      "[I 2025-04-13 18:00:37,887] Trial 38 finished with value: 0.8004264551847973 and parameters: {'n_estimator': 194, 'learning_rate': 0.034425889513171465}. Best is trial 2 with value: 0.8024589755100004.\n",
      "[I 2025-04-13 18:00:39,699] Trial 39 finished with value: 0.8024589755100004 and parameters: {'n_estimator': 168, 'learning_rate': 0.08547441201744962}. Best is trial 2 with value: 0.8024589755100004.\n",
      "[I 2025-04-13 18:00:42,332] Trial 40 finished with value: 0.8024589755100004 and parameters: {'n_estimator': 236, 'learning_rate': 0.060185066863774714}. Best is trial 2 with value: 0.8024589755100004.\n",
      "[I 2025-04-13 18:00:45,869] Trial 41 finished with value: 0.8004264551847973 and parameters: {'n_estimator': 331, 'learning_rate': 0.08858013394404425}. Best is trial 2 with value: 0.8024589755100004.\n",
      "[I 2025-04-13 18:00:48,917] Trial 42 finished with value: 0.8004264551847973 and parameters: {'n_estimator': 278, 'learning_rate': 0.09604998157646118}. Best is trial 2 with value: 0.8024589755100004.\n",
      "[I 2025-04-13 18:00:52,671] Trial 43 finished with value: 0.8004264551847973 and parameters: {'n_estimator': 347, 'learning_rate': 0.07859797708778746}. Best is trial 2 with value: 0.8024589755100004.\n",
      "[I 2025-04-13 18:00:57,473] Trial 44 finished with value: 0.8004264551847973 and parameters: {'n_estimator': 447, 'learning_rate': 0.09486399637256675}. Best is trial 2 with value: 0.8024589755100004.\n",
      "[I 2025-04-13 18:01:00,829] Trial 45 finished with value: 0.8004264551847973 and parameters: {'n_estimator': 312, 'learning_rate': 0.022504797535146566}. Best is trial 2 with value: 0.8024589755100004.\n",
      "[I 2025-04-13 18:01:05,776] Trial 46 finished with value: 0.8024589755100004 and parameters: {'n_estimator': 471, 'learning_rate': 0.07017021464100669}. Best is trial 2 with value: 0.8024589755100004.\n",
      "[I 2025-04-13 18:01:08,489] Trial 47 finished with value: 0.8004264551847973 and parameters: {'n_estimator': 252, 'learning_rate': 0.005260829010936165}. Best is trial 2 with value: 0.8024589755100004.\n",
      "[I 2025-04-13 18:01:12,581] Trial 48 finished with value: 0.8004264551847973 and parameters: {'n_estimator': 387, 'learning_rate': 0.013727305882242418}. Best is trial 2 with value: 0.8024589755100004.\n",
      "[I 2025-04-13 18:01:17,043] Trial 49 finished with value: 0.8004264551847973 and parameters: {'n_estimator': 412, 'learning_rate': 0.09000183668892865}. Best is trial 2 with value: 0.8024589755100004.\n"
     ]
    }
   ],
   "source": [
    "# create a study\n",
    "study = optuna.create_study(direction='maximize')\n",
    "study.optimize(objective,n_trials=50)"
   ]
  },
  {
   "cell_type": "code",
   "execution_count": 40,
   "id": "a05a82ff",
   "metadata": {},
   "outputs": [
    {
     "data": {
      "text/html": [
       "<pre style=\"white-space:pre;overflow-x:auto;line-height:normal;font-family:Menlo,'DejaVu Sans Mono',consolas,'Courier New',monospace\">Accessing as yogibaba7\n",
       "</pre>\n"
      ],
      "text/plain": [
       "Accessing as yogibaba7\n"
      ]
     },
     "metadata": {},
     "output_type": "display_data"
    },
    {
     "data": {
      "text/html": [
       "<pre style=\"white-space:pre;overflow-x:auto;line-height:normal;font-family:Menlo,'DejaVu Sans Mono',consolas,'Courier New',monospace\">Initialized MLflow to track repo <span style=\"color: #008000; text-decoration-color: #008000\">\"yogibaba7/loan_approval_prediction\"</span>\n",
       "</pre>\n"
      ],
      "text/plain": [
       "Initialized MLflow to track repo \u001b[32m\"yogibaba7/loan_approval_prediction\"\u001b[0m\n"
      ]
     },
     "metadata": {},
     "output_type": "display_data"
    },
    {
     "data": {
      "text/html": [
       "<pre style=\"white-space:pre;overflow-x:auto;line-height:normal;font-family:Menlo,'DejaVu Sans Mono',consolas,'Courier New',monospace\">Repository yogibaba7/loan_approval_prediction initialized!\n",
       "</pre>\n"
      ],
      "text/plain": [
       "Repository yogibaba7/loan_approval_prediction initialized!\n"
      ]
     },
     "metadata": {},
     "output_type": "display_data"
    },
    {
     "name": "stderr",
     "output_type": "stream",
     "text": [
      "2025/04/13 18:25:20 INFO mlflow.tracking.fluent: Experiment with name 'exp5_tuneadaboost' does not exist. Creating a new experiment.\n"
     ]
    },
    {
     "data": {
      "text/plain": [
       "<Experiment: artifact_location='mlflow-artifacts:/951428d5324c4229a978da9f91415385', creation_time=1744548921203, experiment_id='4', last_update_time=1744548921203, lifecycle_stage='active', name='exp5_tuneadaboost', tags={}>"
      ]
     },
     "execution_count": 40,
     "metadata": {},
     "output_type": "execute_result"
    }
   ],
   "source": [
    "#CONFIGURE EXPERIMENT\n",
    "import mlflow\n",
    "import dagshub\n",
    "dagshub.init(repo_owner='yogibaba7', repo_name='loan_approval_prediction', mlflow=True)\n",
    "# set tracking uri\n",
    "mlflow.set_tracking_uri('https://dagshub.com/yogibaba7/loan_approval_prediction.mlflow/')\n",
    "# create a experiment\n",
    "mlflow.set_experiment('exp5_tuneadaboost')"
   ]
  },
  {
   "cell_type": "code",
   "execution_count": null,
   "id": "ea183ab8",
   "metadata": {},
   "outputs": [
    {
     "name": "stderr",
     "output_type": "stream",
     "text": [
      "2025/04/13 18:28:05 WARNING mlflow.models.model: Model logged without a signature and input example. Please set `input_example` parameter when logging the model to auto infer the model signature.\n"
     ]
    },
    {
     "name": "stdout",
     "output_type": "stream",
     "text": [
      "🏃 View run dashing-wasp-707 at: https://dagshub.com/yogibaba7/loan_approval_prediction.mlflow/#/experiments/4/runs/382a08f55dc84b5fb2fe1cdd35a0c3a8\n",
      "🧪 View experiment at: https://dagshub.com/yogibaba7/loan_approval_prediction.mlflow/#/experiments/4\n"
     ]
    },
    {
     "ename": "AttributeError",
     "evalue": "module 'mlflow.sklearn' has no attribute 'log_params'",
     "output_type": "error",
     "traceback": [
      "\u001b[31m---------------------------------------------------------------------------\u001b[39m",
      "\u001b[31mAttributeError\u001b[39m                            Traceback (most recent call last)",
      "\u001b[36mCell\u001b[39m\u001b[36m \u001b[39m\u001b[32mIn[41]\u001b[39m\u001b[32m, line 15\u001b[39m\n\u001b[32m     13\u001b[39m best_score = gridsearch.best_score_\n\u001b[32m     14\u001b[39m mlflow.sklearn.log_model(gridsearch,\u001b[33m'\u001b[39m\u001b[33madaboostclassifier\u001b[39m\u001b[33m'\u001b[39m)\n\u001b[32m---> \u001b[39m\u001b[32m15\u001b[39m \u001b[43mmlflow\u001b[49m\u001b[43m.\u001b[49m\u001b[43msklearn\u001b[49m\u001b[43m.\u001b[49m\u001b[43mlog_params\u001b[49m(best_params)\n\u001b[32m     16\u001b[39m mlflow.sklearn.log_metric(\u001b[33m'\u001b[39m\u001b[33maccuracy\u001b[39m\u001b[33m'\u001b[39m,best_score)\n\u001b[32m     18\u001b[39m params = gridsearch.cv_results_[\u001b[33m'\u001b[39m\u001b[33mparams\u001b[39m\u001b[33m'\u001b[39m]\n",
      "\u001b[31mAttributeError\u001b[39m: module 'mlflow.sklearn' has no attribute 'log_params'"
     ]
    }
   ],
   "source": [
    "# gridsearchcv\n",
    "with mlflow.start_run(nested=True):\n",
    "    # define parameters\n",
    "    params = {\n",
    "        'n_estimators':[50,60,70,80,90,100,120,150,170,200,230,250],\n",
    "        'learning_rate':[0.01,0.03,0.05,0.07,0.09]\n",
    "    }\n",
    "    abc = AdaBoostClassifier()\n",
    "\n",
    "    gridsearch = GridSearchCV(abc,param_grid=params)\n",
    "    gridsearch.fit(X_train,y_train)\n",
    "    best_params = gridsearch.best_params_\n",
    "    best_score = gridsearch.best_score_\n",
    "\n",
    "\n",
    " "
   ]
  },
  {
   "cell_type": "code",
   "execution_count": 42,
   "id": "377890f5",
   "metadata": {},
   "outputs": [
    {
     "name": "stderr",
     "output_type": "stream",
     "text": [
      "2025/04/13 18:30:04 WARNING mlflow.models.model: Model logged without a signature and input example. Please set `input_example` parameter when logging the model to auto infer the model signature.\n"
     ]
    },
    {
     "name": "stdout",
     "output_type": "stream",
     "text": [
      "🏃 View run crawling-zebra-524 at: https://dagshub.com/yogibaba7/loan_approval_prediction.mlflow/#/experiments/4/runs/33956dd2e4c540d79d53bd013473554a\n",
      "🧪 View experiment at: https://dagshub.com/yogibaba7/loan_approval_prediction.mlflow/#/experiments/4\n",
      "🏃 View run overjoyed-bass-97 at: https://dagshub.com/yogibaba7/loan_approval_prediction.mlflow/#/experiments/4/runs/aa03a3dfb4db464caa1fea3b4ea25ae2\n",
      "🧪 View experiment at: https://dagshub.com/yogibaba7/loan_approval_prediction.mlflow/#/experiments/4\n",
      "🏃 View run capable-eel-818 at: https://dagshub.com/yogibaba7/loan_approval_prediction.mlflow/#/experiments/4/runs/f0205a1c2dae493282fcf0e9aac7dc4f\n",
      "🧪 View experiment at: https://dagshub.com/yogibaba7/loan_approval_prediction.mlflow/#/experiments/4\n",
      "🏃 View run adorable-dog-411 at: https://dagshub.com/yogibaba7/loan_approval_prediction.mlflow/#/experiments/4/runs/1df31f17e47a4604998d68fb8f3d4ce8\n",
      "🧪 View experiment at: https://dagshub.com/yogibaba7/loan_approval_prediction.mlflow/#/experiments/4\n",
      "🏃 View run languid-cat-666 at: https://dagshub.com/yogibaba7/loan_approval_prediction.mlflow/#/experiments/4/runs/17ce5ba02d6c4ae3aeb2061345e2f8cc\n",
      "🧪 View experiment at: https://dagshub.com/yogibaba7/loan_approval_prediction.mlflow/#/experiments/4\n",
      "🏃 View run classy-fowl-569 at: https://dagshub.com/yogibaba7/loan_approval_prediction.mlflow/#/experiments/4/runs/ae48db298bb84513814670bca9cda74a\n",
      "🧪 View experiment at: https://dagshub.com/yogibaba7/loan_approval_prediction.mlflow/#/experiments/4\n",
      "🏃 View run unleashed-carp-897 at: https://dagshub.com/yogibaba7/loan_approval_prediction.mlflow/#/experiments/4/runs/e41de90117274692bdbe35106bfc7dfc\n",
      "🧪 View experiment at: https://dagshub.com/yogibaba7/loan_approval_prediction.mlflow/#/experiments/4\n",
      "🏃 View run traveling-trout-240 at: https://dagshub.com/yogibaba7/loan_approval_prediction.mlflow/#/experiments/4/runs/c1d8c1efc234467c868c889f7102be23\n",
      "🧪 View experiment at: https://dagshub.com/yogibaba7/loan_approval_prediction.mlflow/#/experiments/4\n",
      "🏃 View run enchanting-bird-383 at: https://dagshub.com/yogibaba7/loan_approval_prediction.mlflow/#/experiments/4/runs/aa4cd1d48c5b4533be142dc5aa5d9e1e\n",
      "🧪 View experiment at: https://dagshub.com/yogibaba7/loan_approval_prediction.mlflow/#/experiments/4\n",
      "🏃 View run honorable-shad-860 at: https://dagshub.com/yogibaba7/loan_approval_prediction.mlflow/#/experiments/4/runs/42977b269c514d3f81c05434bddb624d\n",
      "🧪 View experiment at: https://dagshub.com/yogibaba7/loan_approval_prediction.mlflow/#/experiments/4\n",
      "🏃 View run able-mare-591 at: https://dagshub.com/yogibaba7/loan_approval_prediction.mlflow/#/experiments/4/runs/c6f9c77b55ca480e9aac6dd9e85cc3b5\n",
      "🧪 View experiment at: https://dagshub.com/yogibaba7/loan_approval_prediction.mlflow/#/experiments/4\n",
      "🏃 View run victorious-lynx-955 at: https://dagshub.com/yogibaba7/loan_approval_prediction.mlflow/#/experiments/4/runs/0a61e401754a40129df167437addba33\n",
      "🧪 View experiment at: https://dagshub.com/yogibaba7/loan_approval_prediction.mlflow/#/experiments/4\n",
      "🏃 View run victorious-gnat-530 at: https://dagshub.com/yogibaba7/loan_approval_prediction.mlflow/#/experiments/4/runs/c18994cfacf44597a3535e1520487c24\n",
      "🧪 View experiment at: https://dagshub.com/yogibaba7/loan_approval_prediction.mlflow/#/experiments/4\n",
      "🏃 View run skittish-croc-685 at: https://dagshub.com/yogibaba7/loan_approval_prediction.mlflow/#/experiments/4/runs/6943e38c9f814e05b5e2bb54b877e32c\n",
      "🧪 View experiment at: https://dagshub.com/yogibaba7/loan_approval_prediction.mlflow/#/experiments/4\n",
      "🏃 View run carefree-stoat-989 at: https://dagshub.com/yogibaba7/loan_approval_prediction.mlflow/#/experiments/4/runs/a262600820af42d899653766f2fe43d2\n",
      "🧪 View experiment at: https://dagshub.com/yogibaba7/loan_approval_prediction.mlflow/#/experiments/4\n",
      "🏃 View run adventurous-flea-928 at: https://dagshub.com/yogibaba7/loan_approval_prediction.mlflow/#/experiments/4/runs/1c0a12daf98040e994ff9fe5a244fe0f\n",
      "🧪 View experiment at: https://dagshub.com/yogibaba7/loan_approval_prediction.mlflow/#/experiments/4\n",
      "🏃 View run abundant-hog-529 at: https://dagshub.com/yogibaba7/loan_approval_prediction.mlflow/#/experiments/4/runs/8b434109dc7b4d8187ac19eafe1c28f2\n",
      "🧪 View experiment at: https://dagshub.com/yogibaba7/loan_approval_prediction.mlflow/#/experiments/4\n",
      "🏃 View run delightful-fowl-432 at: https://dagshub.com/yogibaba7/loan_approval_prediction.mlflow/#/experiments/4/runs/c86dc04a564140868eeea2ced5b11e4d\n",
      "🧪 View experiment at: https://dagshub.com/yogibaba7/loan_approval_prediction.mlflow/#/experiments/4\n",
      "🏃 View run dazzling-kit-432 at: https://dagshub.com/yogibaba7/loan_approval_prediction.mlflow/#/experiments/4/runs/70576dc30a9c49abaac1f5aac85b8692\n",
      "🧪 View experiment at: https://dagshub.com/yogibaba7/loan_approval_prediction.mlflow/#/experiments/4\n",
      "🏃 View run carefree-steed-813 at: https://dagshub.com/yogibaba7/loan_approval_prediction.mlflow/#/experiments/4/runs/2c733d673e954ce5acfc18a7c42a9d40\n",
      "🧪 View experiment at: https://dagshub.com/yogibaba7/loan_approval_prediction.mlflow/#/experiments/4\n",
      "🏃 View run crawling-toad-796 at: https://dagshub.com/yogibaba7/loan_approval_prediction.mlflow/#/experiments/4/runs/ce578fc7abe44cf096a0dfb769216de4\n",
      "🧪 View experiment at: https://dagshub.com/yogibaba7/loan_approval_prediction.mlflow/#/experiments/4\n",
      "🏃 View run adventurous-stag-773 at: https://dagshub.com/yogibaba7/loan_approval_prediction.mlflow/#/experiments/4/runs/78db633c57bb4dfe966ec93a47568cf1\n",
      "🧪 View experiment at: https://dagshub.com/yogibaba7/loan_approval_prediction.mlflow/#/experiments/4\n",
      "🏃 View run worried-cod-11 at: https://dagshub.com/yogibaba7/loan_approval_prediction.mlflow/#/experiments/4/runs/e64e0c90bfeb4b669b4f04156379cebc\n",
      "🧪 View experiment at: https://dagshub.com/yogibaba7/loan_approval_prediction.mlflow/#/experiments/4\n",
      "🏃 View run illustrious-colt-297 at: https://dagshub.com/yogibaba7/loan_approval_prediction.mlflow/#/experiments/4/runs/b41d9f5b8ba445b59d37722d9099bca8\n",
      "🧪 View experiment at: https://dagshub.com/yogibaba7/loan_approval_prediction.mlflow/#/experiments/4\n",
      "🏃 View run big-fly-177 at: https://dagshub.com/yogibaba7/loan_approval_prediction.mlflow/#/experiments/4/runs/fd4f8de9c54f4a3384defffd73ca5220\n",
      "🧪 View experiment at: https://dagshub.com/yogibaba7/loan_approval_prediction.mlflow/#/experiments/4\n",
      "🏃 View run rumbling-foal-310 at: https://dagshub.com/yogibaba7/loan_approval_prediction.mlflow/#/experiments/4/runs/7eb93a43ab1f4dd99815b6d6eeefa5df\n",
      "🧪 View experiment at: https://dagshub.com/yogibaba7/loan_approval_prediction.mlflow/#/experiments/4\n",
      "🏃 View run unique-shrew-276 at: https://dagshub.com/yogibaba7/loan_approval_prediction.mlflow/#/experiments/4/runs/c6f68c1757b8412883a954fa9bdb9959\n",
      "🧪 View experiment at: https://dagshub.com/yogibaba7/loan_approval_prediction.mlflow/#/experiments/4\n",
      "🏃 View run redolent-mouse-459 at: https://dagshub.com/yogibaba7/loan_approval_prediction.mlflow/#/experiments/4/runs/283dd6b8234e4226a7a2a092353929c6\n",
      "🧪 View experiment at: https://dagshub.com/yogibaba7/loan_approval_prediction.mlflow/#/experiments/4\n",
      "🏃 View run colorful-donkey-490 at: https://dagshub.com/yogibaba7/loan_approval_prediction.mlflow/#/experiments/4/runs/833219f002874e23aa2aec749c11eeb7\n",
      "🧪 View experiment at: https://dagshub.com/yogibaba7/loan_approval_prediction.mlflow/#/experiments/4\n",
      "🏃 View run enthused-lamb-680 at: https://dagshub.com/yogibaba7/loan_approval_prediction.mlflow/#/experiments/4/runs/14d2c9b82a704f7f8c277df9d113ab71\n",
      "🧪 View experiment at: https://dagshub.com/yogibaba7/loan_approval_prediction.mlflow/#/experiments/4\n",
      "🏃 View run carefree-robin-806 at: https://dagshub.com/yogibaba7/loan_approval_prediction.mlflow/#/experiments/4/runs/dd02e2186f9e4716b8b89f335deb8adb\n",
      "🧪 View experiment at: https://dagshub.com/yogibaba7/loan_approval_prediction.mlflow/#/experiments/4\n",
      "🏃 View run intrigued-turtle-886 at: https://dagshub.com/yogibaba7/loan_approval_prediction.mlflow/#/experiments/4/runs/debe5459aa4046cd9ba1fd7192787459\n",
      "🧪 View experiment at: https://dagshub.com/yogibaba7/loan_approval_prediction.mlflow/#/experiments/4\n",
      "🏃 View run serious-penguin-824 at: https://dagshub.com/yogibaba7/loan_approval_prediction.mlflow/#/experiments/4/runs/001896682b9f40c592f75c2ee39d8852\n",
      "🧪 View experiment at: https://dagshub.com/yogibaba7/loan_approval_prediction.mlflow/#/experiments/4\n",
      "🏃 View run salty-wren-425 at: https://dagshub.com/yogibaba7/loan_approval_prediction.mlflow/#/experiments/4/runs/2ab6b1da76e34c8986ac28badd644d6b\n",
      "🧪 View experiment at: https://dagshub.com/yogibaba7/loan_approval_prediction.mlflow/#/experiments/4\n",
      "🏃 View run mercurial-whale-131 at: https://dagshub.com/yogibaba7/loan_approval_prediction.mlflow/#/experiments/4/runs/eff78ae51a8c4e1a87f641bccbf8da46\n",
      "🧪 View experiment at: https://dagshub.com/yogibaba7/loan_approval_prediction.mlflow/#/experiments/4\n",
      "🏃 View run sincere-mouse-568 at: https://dagshub.com/yogibaba7/loan_approval_prediction.mlflow/#/experiments/4/runs/f6d91772cb334ecf94b6acf6db58927e\n",
      "🧪 View experiment at: https://dagshub.com/yogibaba7/loan_approval_prediction.mlflow/#/experiments/4\n",
      "🏃 View run grandiose-trout-481 at: https://dagshub.com/yogibaba7/loan_approval_prediction.mlflow/#/experiments/4/runs/e936397feaa149cd902a1ab61c11fa22\n",
      "🧪 View experiment at: https://dagshub.com/yogibaba7/loan_approval_prediction.mlflow/#/experiments/4\n",
      "🏃 View run orderly-fowl-38 at: https://dagshub.com/yogibaba7/loan_approval_prediction.mlflow/#/experiments/4/runs/7fb42975dd8b450f88586e02b294f90d\n",
      "🧪 View experiment at: https://dagshub.com/yogibaba7/loan_approval_prediction.mlflow/#/experiments/4\n",
      "🏃 View run able-shrew-589 at: https://dagshub.com/yogibaba7/loan_approval_prediction.mlflow/#/experiments/4/runs/c61c8a07f8654a5a9dcb4dcd3e80b461\n",
      "🧪 View experiment at: https://dagshub.com/yogibaba7/loan_approval_prediction.mlflow/#/experiments/4\n",
      "🏃 View run chill-skunk-96 at: https://dagshub.com/yogibaba7/loan_approval_prediction.mlflow/#/experiments/4/runs/b077bfaecb11449da1069d7b6866a6fa\n",
      "🧪 View experiment at: https://dagshub.com/yogibaba7/loan_approval_prediction.mlflow/#/experiments/4\n",
      "🏃 View run upset-calf-642 at: https://dagshub.com/yogibaba7/loan_approval_prediction.mlflow/#/experiments/4/runs/de011a1fa5bf4f41a0467cddb12279a8\n",
      "🧪 View experiment at: https://dagshub.com/yogibaba7/loan_approval_prediction.mlflow/#/experiments/4\n",
      "🏃 View run ambitious-dog-369 at: https://dagshub.com/yogibaba7/loan_approval_prediction.mlflow/#/experiments/4/runs/1c23129956064406b4a468b08a3706e4\n",
      "🧪 View experiment at: https://dagshub.com/yogibaba7/loan_approval_prediction.mlflow/#/experiments/4\n",
      "🏃 View run serious-slug-930 at: https://dagshub.com/yogibaba7/loan_approval_prediction.mlflow/#/experiments/4/runs/8a21b2c5c3af4a89a035179ba7e6d84e\n",
      "🧪 View experiment at: https://dagshub.com/yogibaba7/loan_approval_prediction.mlflow/#/experiments/4\n",
      "🏃 View run fortunate-mink-18 at: https://dagshub.com/yogibaba7/loan_approval_prediction.mlflow/#/experiments/4/runs/02aa7b3a5bbb4a739ab6917bb51fa08d\n",
      "🧪 View experiment at: https://dagshub.com/yogibaba7/loan_approval_prediction.mlflow/#/experiments/4\n",
      "🏃 View run nosy-deer-820 at: https://dagshub.com/yogibaba7/loan_approval_prediction.mlflow/#/experiments/4/runs/0da998b7f1544bf8b2315e36ed420a98\n",
      "🧪 View experiment at: https://dagshub.com/yogibaba7/loan_approval_prediction.mlflow/#/experiments/4\n",
      "🏃 View run adaptable-newt-920 at: https://dagshub.com/yogibaba7/loan_approval_prediction.mlflow/#/experiments/4/runs/f06c542544ad4ab99711e41cd8a0e21a\n",
      "🧪 View experiment at: https://dagshub.com/yogibaba7/loan_approval_prediction.mlflow/#/experiments/4\n",
      "🏃 View run abundant-pug-766 at: https://dagshub.com/yogibaba7/loan_approval_prediction.mlflow/#/experiments/4/runs/16ca926fee124c1db58dbc423338d011\n",
      "🧪 View experiment at: https://dagshub.com/yogibaba7/loan_approval_prediction.mlflow/#/experiments/4\n",
      "🏃 View run adaptable-rat-852 at: https://dagshub.com/yogibaba7/loan_approval_prediction.mlflow/#/experiments/4/runs/346c50d8d0f8419883a91604bf252b6b\n",
      "🧪 View experiment at: https://dagshub.com/yogibaba7/loan_approval_prediction.mlflow/#/experiments/4\n",
      "🏃 View run skittish-shark-823 at: https://dagshub.com/yogibaba7/loan_approval_prediction.mlflow/#/experiments/4/runs/18a7971cf2fb41699ab8ee7211dc2981\n",
      "🧪 View experiment at: https://dagshub.com/yogibaba7/loan_approval_prediction.mlflow/#/experiments/4\n",
      "🏃 View run upset-finch-121 at: https://dagshub.com/yogibaba7/loan_approval_prediction.mlflow/#/experiments/4/runs/cb8435a39599444b985e4c45fb3679b1\n",
      "🧪 View experiment at: https://dagshub.com/yogibaba7/loan_approval_prediction.mlflow/#/experiments/4\n",
      "🏃 View run abundant-hawk-847 at: https://dagshub.com/yogibaba7/loan_approval_prediction.mlflow/#/experiments/4/runs/f72499f884de466398e7362ffd18fb42\n",
      "🧪 View experiment at: https://dagshub.com/yogibaba7/loan_approval_prediction.mlflow/#/experiments/4\n",
      "🏃 View run fearless-shrike-81 at: https://dagshub.com/yogibaba7/loan_approval_prediction.mlflow/#/experiments/4/runs/da86cdfdad3a44bb9ee187ff44a7163d\n",
      "🧪 View experiment at: https://dagshub.com/yogibaba7/loan_approval_prediction.mlflow/#/experiments/4\n",
      "🏃 View run incongruous-croc-446 at: https://dagshub.com/yogibaba7/loan_approval_prediction.mlflow/#/experiments/4/runs/2107f90502f241efad7db0ca31959d0a\n",
      "🧪 View experiment at: https://dagshub.com/yogibaba7/loan_approval_prediction.mlflow/#/experiments/4\n",
      "🏃 View run capricious-whale-656 at: https://dagshub.com/yogibaba7/loan_approval_prediction.mlflow/#/experiments/4/runs/db8096f4e3c341cba0ee2cdd510d32ab\n",
      "🧪 View experiment at: https://dagshub.com/yogibaba7/loan_approval_prediction.mlflow/#/experiments/4\n",
      "🏃 View run wise-shrimp-289 at: https://dagshub.com/yogibaba7/loan_approval_prediction.mlflow/#/experiments/4/runs/5eaafb82eccf40bba10892a8c6d878af\n",
      "🧪 View experiment at: https://dagshub.com/yogibaba7/loan_approval_prediction.mlflow/#/experiments/4\n",
      "🏃 View run capable-boar-818 at: https://dagshub.com/yogibaba7/loan_approval_prediction.mlflow/#/experiments/4/runs/d55795a566614f0088cc49456735097a\n",
      "🧪 View experiment at: https://dagshub.com/yogibaba7/loan_approval_prediction.mlflow/#/experiments/4\n",
      "🏃 View run loud-slug-235 at: https://dagshub.com/yogibaba7/loan_approval_prediction.mlflow/#/experiments/4/runs/c4455f962c5b433093e6ddbfa15d8626\n",
      "🧪 View experiment at: https://dagshub.com/yogibaba7/loan_approval_prediction.mlflow/#/experiments/4\n",
      "🏃 View run upset-cow-729 at: https://dagshub.com/yogibaba7/loan_approval_prediction.mlflow/#/experiments/4/runs/1349bf048feb4c1696573161b23790d6\n",
      "🧪 View experiment at: https://dagshub.com/yogibaba7/loan_approval_prediction.mlflow/#/experiments/4\n",
      "🏃 View run agreeable-skunk-492 at: https://dagshub.com/yogibaba7/loan_approval_prediction.mlflow/#/experiments/4/runs/41378ee9dfaa4d96b1ae4676dfcbd665\n",
      "🧪 View experiment at: https://dagshub.com/yogibaba7/loan_approval_prediction.mlflow/#/experiments/4\n",
      "🏃 View run able-carp-90 at: https://dagshub.com/yogibaba7/loan_approval_prediction.mlflow/#/experiments/4/runs/4eb99fdf95364539b45dec6861680732\n",
      "🧪 View experiment at: https://dagshub.com/yogibaba7/loan_approval_prediction.mlflow/#/experiments/4\n",
      "best score : 0.8024531024531024\n",
      "best params : {'learning_rate': 0.01, 'n_estimators': 70}\n",
      "🏃 View run loud-zebra-118 at: https://dagshub.com/yogibaba7/loan_approval_prediction.mlflow/#/experiments/4/runs/f8eab11f5e3647eeaedc75668e5ec47e\n",
      "🧪 View experiment at: https://dagshub.com/yogibaba7/loan_approval_prediction.mlflow/#/experiments/4\n"
     ]
    }
   ],
   "source": [
    "# gridsearchcv\n",
    "with mlflow.start_run(nested=True):\n",
    "    mlflow.sklearn.log_model(gridsearch,'adaboostclassifier')\n",
    "    mlflow.log_params(best_params)\n",
    "    mlflow.log_metric('accuracy',best_score)\n",
    "\n",
    "    params = gridsearch.cv_results_['params']\n",
    "    scores = gridsearch.cv_results_['mean_test_score']\n",
    "    for i in range(len(scores)):\n",
    "        with mlflow.start_run(nested=True):\n",
    "            mlflow.log_params(params[i])\n",
    "            mlflow.log_metric('accuracy',scores[i])\n",
    "            \n",
    "    print(f\"best score : {gridsearch.best_score_}\")\n",
    "    print(f\"best params : {gridsearch.best_params_}\")\n",
    "    "
   ]
  },
  {
   "cell_type": "code",
   "execution_count": null,
   "id": "61dc804e",
   "metadata": {},
   "outputs": [],
   "source": []
  },
  {
   "cell_type": "code",
   "execution_count": null,
   "id": "818eb383",
   "metadata": {},
   "outputs": [],
   "source": []
  },
  {
   "cell_type": "code",
   "execution_count": null,
   "id": "520d0103",
   "metadata": {},
   "outputs": [],
   "source": []
  },
  {
   "cell_type": "code",
   "execution_count": null,
   "id": "37523456",
   "metadata": {},
   "outputs": [],
   "source": []
  },
  {
   "cell_type": "code",
   "execution_count": null,
   "id": "46e83069",
   "metadata": {},
   "outputs": [],
   "source": []
  },
  {
   "cell_type": "code",
   "execution_count": null,
   "id": "beef7edc",
   "metadata": {},
   "outputs": [],
   "source": []
  },
  {
   "cell_type": "code",
   "execution_count": null,
   "id": "a9947659",
   "metadata": {},
   "outputs": [],
   "source": []
  }
 ],
 "metadata": {
  "kernelspec": {
   "display_name": "myvenv",
   "language": "python",
   "name": "python3"
  },
  "language_info": {
   "codemirror_mode": {
    "name": "ipython",
    "version": 3
   },
   "file_extension": ".py",
   "mimetype": "text/x-python",
   "name": "python",
   "nbconvert_exporter": "python",
   "pygments_lexer": "ipython3",
   "version": "3.11.7"
  }
 },
 "nbformat": 4,
 "nbformat_minor": 5
}
